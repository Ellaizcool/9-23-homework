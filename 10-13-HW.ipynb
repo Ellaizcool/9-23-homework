{
 "cells": [
  {
   "cell_type": "code",
   "execution_count": 34,
   "id": "ff41ac3e",
   "metadata": {},
   "outputs": [
    {
     "name": "stdout",
     "output_type": "stream",
     "text": [
      "Robot: What is the Width?\n",
      "15\n",
      "Robot: What is the Length?\n",
      "11\n",
      "Robot: The area is 165.0 !\n"
     ]
    }
   ],
   "source": [
    "Width=float(input('Robot: What is the Width?\\n'))\n",
    "Length=float(input('Robot: What is the Length?\\n'))\n",
    "Area= Width*Length\n",
    "#print(Area)\n",
    "print('Robot: The area is',Area,'!')"
   ]
  },
  {
   "cell_type": "code",
   "execution_count": 46,
   "id": "a99afbcc",
   "metadata": {},
   "outputs": [
    {
     "name": "stdout",
     "output_type": "stream",
     "text": [
      "Robot: What is the price?\n",
      "100\n",
      "Robot: What is the tip percentage?\n",
      "10\n",
      "Robot: Your tip is 10.0 ,so\n",
      "your dinner cost is 110.0 !\n"
     ]
    }
   ],
   "source": [
    "def calculate_tip():\n",
    "    Price=float(input('Robot: What is the price?\\n'))\n",
    "    Tip_percentage=float(input('Robot: What is the tip percentage?\\n'))\n",
    "    Tip=Price*Tip_percentage/100\n",
    "    print('Robot: Your tip is', Tip,', so')\n",
    "    Total_cost=Price+Tip\n",
    "    print('your dinner cost is', Total_cost,'!')\n",
    "calculate_tip()\n",
    "\n"
   ]
  },
  {
   "cell_type": "code",
   "execution_count": null,
   "id": "9d039751",
   "metadata": {},
   "outputs": [],
   "source": []
  }
 ],
 "metadata": {
  "kernelspec": {
   "display_name": "Python 3 (ipykernel)",
   "language": "python",
   "name": "python3"
  },
  "language_info": {
   "codemirror_mode": {
    "name": "ipython",
    "version": 3
   },
   "file_extension": ".py",
   "mimetype": "text/x-python",
   "name": "python",
   "nbconvert_exporter": "python",
   "pygments_lexer": "ipython3",
   "version": "3.11.4"
  }
 },
 "nbformat": 4,
 "nbformat_minor": 5
}
