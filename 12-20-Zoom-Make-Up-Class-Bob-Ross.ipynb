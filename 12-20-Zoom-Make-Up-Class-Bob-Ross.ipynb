{
 "cells": [
  {
   "cell_type": "code",
   "execution_count": 20,
   "id": "a2c6fc01",
   "metadata": {},
   "outputs": [
    {
     "name": "stdout",
     "output_type": "stream",
     "text": [
      "x is negative\n"
     ]
    }
   ],
   "source": [
    "def if_x_is_positive (x):\n",
    "    if x>0:\n",
    "        print('x is positive')\n",
    "    else:\n",
    "        if x<0:\n",
    "            print('x is negative')\n",
    "if_x_is_positive ()"
   ]
  },
  {
   "cell_type": "code",
   "execution_count": 23,
   "id": "c8ea63c7",
   "metadata": {},
   "outputs": [
    {
     "name": "stdout",
     "output_type": "stream",
     "text": [
      "this number is positive\n"
     ]
    }
   ],
   "source": [
    "def positive_or_negative(x):\n",
    "    if x>0:\n",
    "        print('this number is positive')\n",
    "    elif x<0:\n",
    "        print('this number is negative')\n",
    "    else:\n",
    "        print('this number equals to 0')\n",
    "positive_or_negative(5)"
   ]
  },
  {
   "cell_type": "code",
   "execution_count": 29,
   "id": "696dd33a",
   "metadata": {},
   "outputs": [
    {
     "name": "stdout",
     "output_type": "stream",
     "text": [
      "4\n",
      "3\n",
      "2\n",
      "1\n",
      "Blast off !!!!!!!!!!!!!!!!!!!!!\n"
     ]
    }
   ],
   "source": [
    "def countdown(n):\n",
    "    if n<1:\n",
    "        print('Blast off !!!!!!!!!!!!!!!!!!!!!')\n",
    "    else:\n",
    "        print(n)\n",
    "        countdown(n-1)\n",
    "countdown(4)"
   ]
  },
  {
   "cell_type": "code",
   "execution_count": null,
   "id": "7bc9c428",
   "metadata": {},
   "outputs": [],
   "source": []
  },
  {
   "cell_type": "code",
   "execution_count": null,
   "id": "206623f5",
   "metadata": {},
   "outputs": [],
   "source": []
  }
 ],
 "metadata": {
  "kernelspec": {
   "display_name": "Python 3 (ipykernel)",
   "language": "python",
   "name": "python3"
  },
  "language_info": {
   "codemirror_mode": {
    "name": "ipython",
    "version": 3
   },
   "file_extension": ".py",
   "mimetype": "text/x-python",
   "name": "python",
   "nbconvert_exporter": "python",
   "pygments_lexer": "ipython3",
   "version": "3.11.4"
  }
 },
 "nbformat": 4,
 "nbformat_minor": 5
}
