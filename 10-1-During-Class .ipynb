{
 "cells": [
  {
   "cell_type": "code",
   "execution_count": 7,
   "id": "19e803e5",
   "metadata": {},
   "outputs": [
    {
     "ename": "SyntaxError",
     "evalue": "invalid syntax (3018539831.py, line 2)",
     "output_type": "error",
     "traceback": [
      "\u001b[0;36m  Cell \u001b[0;32mIn[7], line 2\u001b[0;36m\u001b[0m\n\u001b[0;31m    Data types\u001b[0m\n\u001b[0m         ^\u001b[0m\n\u001b[0;31mSyntaxError\u001b[0m\u001b[0;31m:\u001b[0m invalid syntax\n"
     ]
    }
   ],
   "source": [
    "Recap\n",
    "Data types\n",
    "String,Integer, Float\n",
    "How to print: Variable and string"
   ]
  },
  {
   "cell_type": "code",
   "execution_count": 10,
   "id": "11a76971",
   "metadata": {},
   "outputs": [
    {
     "data": {
      "text/plain": [
       "'3.41'"
      ]
     },
     "execution_count": 10,
     "metadata": {},
     "output_type": "execute_result"
    }
   ],
   "source": [
    "str(3.41)"
   ]
  },
  {
   "cell_type": "code",
   "execution_count": 13,
   "id": "bc9ebfd8",
   "metadata": {},
   "outputs": [
    {
     "data": {
      "text/plain": [
       "str"
      ]
     },
     "execution_count": 13,
     "metadata": {},
     "output_type": "execute_result"
    }
   ],
   "source": [
    "s='3.41'\n",
    "type('3.41')"
   ]
  },
  {
   "cell_type": "code",
   "execution_count": 14,
   "id": "6edc94b9",
   "metadata": {},
   "outputs": [
    {
     "name": "stdout",
     "output_type": "stream",
     "text": [
      "11.2\n"
     ]
    }
   ],
   "source": [
    "a=5.2\n",
    "b=6\n",
    "print(a+b)"
   ]
  },
  {
   "cell_type": "code",
   "execution_count": 24,
   "id": "d4332013",
   "metadata": {},
   "outputs": [
    {
     "name": "stdout",
     "output_type": "stream",
     "text": [
      "applekiwi\n"
     ]
    }
   ],
   "source": [
    "A='apple'\n",
    "B='kiwi'\n",
    "print(A+B)"
   ]
  },
  {
   "cell_type": "code",
   "execution_count": 43,
   "id": "dd20c766",
   "metadata": {},
   "outputs": [
    {
     "name": "stdout",
     "output_type": "stream",
     "text": [
      "Robot: What is the length?\n",
      "100\n",
      "Robot: What is the width?\n",
      "19\n",
      "Robot: So the area is 1900.0 !\n"
     ]
    }
   ],
   "source": [
    "length= float(input('Robot: What is the length?\\n'))\n",
    "width= float(input('Robot: What is the width?\\n'))\n",
    "print('Robot: So the area is',length * width,'!')"
   ]
  },
  {
   "cell_type": "code",
   "execution_count": 49,
   "id": "20b53586",
   "metadata": {},
   "outputs": [
    {
     "data": {
      "text/plain": [
       "279936"
      ]
     },
     "execution_count": 49,
     "metadata": {},
     "output_type": "execute_result"
    }
   ],
   "source": [
    "pow(6,7)"
   ]
  },
  {
   "cell_type": "code",
   "execution_count": 52,
   "id": "bd7cd24c",
   "metadata": {},
   "outputs": [
    {
     "name": "stdout",
     "output_type": "stream",
     "text": [
      "Robot: What is the height?\n",
      "100\n",
      "Robot: What is the length?\n",
      "100\n",
      "the area is 5000.0 !\n"
     ]
    }
   ],
   "source": [
    "height=float(input('Robot: What is the height?\\n'))\n",
    "length=float(input('Robot: What is the length?\\n'))\n",
    "print('the area is',height*length/2,'!')               this is a right triangle"
   ]
  },
  {
   "cell_type": "code",
   "execution_count": 57,
   "id": "4f2bd767",
   "metadata": {},
   "outputs": [
    {
     "name": "stdout",
     "output_type": "stream",
     "text": [
      "10\n"
     ]
    }
   ],
   "source": [
    "def calculate_area():\n",
    " width=2\n",
    "length=5\n",
    "print(width*length)"
   ]
  },
  {
   "cell_type": "code",
   "execution_count": 60,
   "id": "fb78e182",
   "metadata": {},
   "outputs": [],
   "source": [
    "calculate_area()"
   ]
  },
  {
   "cell_type": "code",
   "execution_count": null,
   "id": "546ad1af",
   "metadata": {},
   "outputs": [],
   "source": [
    "area_square=pow(side_length,2)\n",
    "print(area_square)"
   ]
  }
 ],
 "metadata": {
  "kernelspec": {
   "display_name": "Python 3 (ipykernel)",
   "language": "python",
   "name": "python3"
  },
  "language_info": {
   "codemirror_mode": {
    "name": "ipython",
    "version": 3
   },
   "file_extension": ".py",
   "mimetype": "text/x-python",
   "name": "python",
   "nbconvert_exporter": "python",
   "pygments_lexer": "ipython3",
   "version": "3.11.4"
  }
 },
 "nbformat": 4,
 "nbformat_minor": 5
}
