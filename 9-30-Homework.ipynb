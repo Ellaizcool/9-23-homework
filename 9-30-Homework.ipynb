{
 "cells": [
  {
   "cell_type": "code",
   "execution_count": 15,
   "id": "c003c16d",
   "metadata": {},
   "outputs": [
    {
     "name": "stdout",
     "output_type": "stream",
     "text": [
      "Robot: What did you do?\n",
      "100\n",
      "Robot: Why did you 100 ?\n"
     ]
    }
   ],
   "source": [
    "E=input('Robot: What did you do?\\n')\n",
    "print('Robot: Why did you' ,E,'?')"
   ]
  },
  {
   "cell_type": "code",
   "execution_count": 31,
   "id": "8887fc40",
   "metadata": {},
   "outputs": [
    {
     "name": "stdout",
     "output_type": "stream",
     "text": [
      "How much is your dinner cost?\n",
      "500\n",
      "Tip percentage:\n",
      "5\n",
      "This is your tip! 25.0\n",
      "Your total cost is 525.0 !\n"
     ]
    }
   ],
   "source": [
    "Dinnercost=float(input('How much is your dinner cost?\\n'))\n",
    "Tippercentage=float(input('Tip percentage:\\n'))\n",
    "Tip=Dinnercost*Tippercentage/100\n",
    "print('This is your tip!', Tip)\n",
    "Totalcost=Dinnercost+Tip\n",
    "print('Your total cost is', Totalcost,'!')"
   ]
  },
  {
   "cell_type": "code",
   "execution_count": 19,
   "id": "f95d7a75",
   "metadata": {},
   "outputs": [
    {
     "ename": "SyntaxError",
     "evalue": "invalid syntax (1745406945.py, line 1)",
     "output_type": "error",
     "traceback": [
      "\u001b[0;36m  Cell \u001b[0;32mIn[19], line 1\u001b[0;36m\u001b[0m\n\u001b[0;31m    homework: complete dinnercost thingy\u001b[0m\n\u001b[0m                       ^\u001b[0m\n\u001b[0;31mSyntaxError\u001b[0m\u001b[0;31m:\u001b[0m invalid syntax\n"
     ]
    }
   ],
   "source": [
    "homework: complete dinnercost thingy"
   ]
  },
  {
   "cell_type": "code",
   "execution_count": null,
   "id": "7a0302f5",
   "metadata": {},
   "outputs": [],
   "source": []
  },
  {
   "cell_type": "markdown",
   "id": "cdf7a80c",
   "metadata": {},
   "source": [
    "sport=input('Robot: What is your favorite sport?\\n')\n",
    "print('Robot: do you like', sport,'?')\n",
    "answer=input('what do you like about,',sport)\n",
    "print('Cool!',answer,'is nice!')"
   ]
  }
 ],
 "metadata": {
  "kernelspec": {
   "display_name": "Python 3 (ipykernel)",
   "language": "python",
   "name": "python3"
  },
  "language_info": {
   "codemirror_mode": {
    "name": "ipython",
    "version": 3
   },
   "file_extension": ".py",
   "mimetype": "text/x-python",
   "name": "python",
   "nbconvert_exporter": "python",
   "pygments_lexer": "ipython3",
   "version": "3.11.4"
  }
 },
 "nbformat": 4,
 "nbformat_minor": 5
}
