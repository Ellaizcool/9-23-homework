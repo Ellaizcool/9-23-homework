{
 "cells": [
  {
   "cell_type": "code",
   "execution_count": 4,
   "id": "5897c560",
   "metadata": {},
   "outputs": [
    {
     "ename": "SyntaxError",
     "evalue": "invalid syntax (3584618777.py, line 2)",
     "output_type": "error",
     "traceback": [
      "\u001b[0;36m  Cell \u001b[0;32mIn[4], line 2\u001b[0;36m\u001b[0m\n\u001b[0;31m    s. find 'b'\u001b[0m\n\u001b[0m            ^\u001b[0m\n\u001b[0;31mSyntaxError\u001b[0m\u001b[0;31m:\u001b[0m invalid syntax\n"
     ]
    }
   ],
   "source": [
    "s='banana'"
   ]
  },
  {
   "cell_type": "code",
   "execution_count": 6,
   "id": "a1034c86",
   "metadata": {},
   "outputs": [
    {
     "data": {
      "text/plain": [
       "0"
      ]
     },
     "execution_count": 6,
     "metadata": {},
     "output_type": "execute_result"
    }
   ],
   "source": [
    "s. find('b')"
   ]
  },
  {
   "cell_type": "code",
   "execution_count": 9,
   "id": "5be4b820",
   "metadata": {},
   "outputs": [
    {
     "data": {
      "text/plain": [
       "'canana'"
      ]
     },
     "execution_count": 9,
     "metadata": {},
     "output_type": "execute_result"
    }
   ],
   "source": [
    "s.replace('b','c')"
   ]
  },
  {
   "cell_type": "code",
   "execution_count": 10,
   "id": "be2e544d",
   "metadata": {},
   "outputs": [
    {
     "data": {
      "text/plain": [
       "'bonono'"
      ]
     },
     "execution_count": 10,
     "metadata": {},
     "output_type": "execute_result"
    }
   ],
   "source": [
    "s.replace('a','o',3)"
   ]
  },
  {
   "cell_type": "code",
   "execution_count": 12,
   "id": "da438fee",
   "metadata": {},
   "outputs": [],
   "source": [
    "a='yiyi'"
   ]
  },
  {
   "cell_type": "code",
   "execution_count": 20,
   "id": "fd1f54f2",
   "metadata": {},
   "outputs": [
    {
     "data": {
      "text/plain": [
       "'yakyak'"
      ]
     },
     "execution_count": 20,
     "metadata": {},
     "output_type": "execute_result"
    }
   ],
   "source": [
    "a.replace('i','ak',2)"
   ]
  },
  {
   "cell_type": "code",
   "execution_count": 21,
   "id": "9f66d690",
   "metadata": {},
   "outputs": [],
   "source": [
    "c='rebecca'"
   ]
  },
  {
   "cell_type": "code",
   "execution_count": 23,
   "id": "5b77b7ca",
   "metadata": {},
   "outputs": [
    {
     "data": {
      "text/plain": [
       "'princess rebecazar'"
      ]
     },
     "execution_count": 23,
     "metadata": {},
     "output_type": "execute_result"
    }
   ],
   "source": [
    "c.replace('rebecca','princess rebecazar')"
   ]
  },
  {
   "cell_type": "code",
   "execution_count": 24,
   "id": "8496874d",
   "metadata": {},
   "outputs": [
    {
     "data": {
      "text/plain": [
       "['rebe', '', 'a']"
      ]
     },
     "execution_count": 24,
     "metadata": {},
     "output_type": "execute_result"
    }
   ],
   "source": [
    "c.split('c')"
   ]
  },
  {
   "cell_type": "code",
   "execution_count": 29,
   "id": "2ea8e649",
   "metadata": {},
   "outputs": [],
   "source": [
    "nl= [1523673,2644,54646,462109838]"
   ]
  },
  {
   "cell_type": "code",
   "execution_count": 30,
   "id": "b53e713d",
   "metadata": {},
   "outputs": [
    {
     "name": "stdout",
     "output_type": "stream",
     "text": [
      "[1523674, 2645, 54647, 462109839]\n"
     ]
    }
   ],
   "source": [
    "def pattern():\n",
    "for i in range(len(nl)):\n",
    "    nl[i]=nl[i]+1\n",
    "print(nl)"
   ]
  },
  {
   "cell_type": "code",
   "execution_count": 51,
   "id": "08ae9635",
   "metadata": {},
   "outputs": [
    {
     "ename": "TypeError",
     "evalue": "can only concatenate str (not \"int\") to str",
     "output_type": "error",
     "traceback": [
      "\u001b[0;31m---------------------------------------------------------------------------\u001b[0m",
      "\u001b[0;31mTypeError\u001b[0m                                 Traceback (most recent call last)",
      "Cell \u001b[0;32mIn[51], line 1\u001b[0m\n\u001b[0;32m----> 1\u001b[0m pattern(n2)\n",
      "Cell \u001b[0;32mIn[50], line 3\u001b[0m, in \u001b[0;36mpattern\u001b[0;34m(n2)\u001b[0m\n\u001b[1;32m      1\u001b[0m \u001b[38;5;28;01mdef\u001b[39;00m \u001b[38;5;21mpattern\u001b[39m(n2):\n\u001b[1;32m      2\u001b[0m     \u001b[38;5;28;01mfor\u001b[39;00m i \u001b[38;5;129;01min\u001b[39;00m \u001b[38;5;28mrange\u001b[39m(\u001b[38;5;28mlen\u001b[39m(n2)):\n\u001b[0;32m----> 3\u001b[0m         n2[i]\u001b[38;5;241m=\u001b[39mn2[i]\u001b[38;5;241m+\u001b[39m\u001b[38;5;241m1\u001b[39m\n\u001b[1;32m      4\u001b[0m     \u001b[38;5;28;01mreturn\u001b[39;00m (n2)\n",
      "\u001b[0;31mTypeError\u001b[0m: can only concatenate str (not \"int\") to str"
     ]
    }
   ],
   "source": [
    "pattern(n2)"
   ]
  },
  {
   "cell_type": "code",
   "execution_count": 60,
   "id": "6a89a9e5",
   "metadata": {},
   "outputs": [],
   "source": [
    "n2=[1,3,5]"
   ]
  },
  {
   "cell_type": "code",
   "execution_count": 61,
   "id": "eb5c5d97",
   "metadata": {},
   "outputs": [],
   "source": [
    "def pattern(n2):\n",
    "    for i in range(len(n2)):\n",
    "        n2[i]=n2[i]+1\n",
    "    return (n2)"
   ]
  },
  {
   "cell_type": "code",
   "execution_count": 62,
   "id": "8af1b16a",
   "metadata": {},
   "outputs": [
    {
     "data": {
      "text/plain": [
       "[2, 4, 6]"
      ]
     },
     "execution_count": 62,
     "metadata": {},
     "output_type": "execute_result"
    }
   ],
   "source": [
    "pattern(n2)"
   ]
  },
  {
   "cell_type": "code",
   "execution_count": null,
   "id": "141f9320",
   "metadata": {},
   "outputs": [],
   "source": []
  },
  {
   "cell_type": "code",
   "execution_count": null,
   "id": "2a8cc08f",
   "metadata": {},
   "outputs": [],
   "source": []
  }
 ],
 "metadata": {
  "kernelspec": {
   "display_name": "Python 3 (ipykernel)",
   "language": "python",
   "name": "python3"
  },
  "language_info": {
   "codemirror_mode": {
    "name": "ipython",
    "version": 3
   },
   "file_extension": ".py",
   "mimetype": "text/x-python",
   "name": "python",
   "nbconvert_exporter": "python",
   "pygments_lexer": "ipython3",
   "version": "3.11.4"
  }
 },
 "nbformat": 4,
 "nbformat_minor": 5
}
