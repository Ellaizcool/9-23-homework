{
 "cells": [
  {
   "cell_type": "code",
   "execution_count": 48,
   "id": "0d6d18b9",
   "metadata": {},
   "outputs": [
    {
     "name": "stdout",
     "output_type": "stream",
     "text": [
      "Original dictionary: {'paintbrush': 5, 'scissors': 9, 'paper': 90}\n",
      "Updated dictionary: {'paintbrush': 100, 'scissors': 9, 'paper': 90, 'gluestick': 5}\n"
     ]
    }
   ],
   "source": [
    "def add_item():\n",
    "    S={'paintbrush':5,'scissors':9,'paper':90}\n",
    "print('Original dictionary:',S)\n",
    "S['paintbrush'] = 100  \n",
    "S['scissors'] = 9  \n",
    "S['paper'] = 90 \n",
    "S['gluestick']=5\n",
    "print('Updated dictionary:',S)"
   ]
  },
  {
   "cell_type": "code",
   "execution_count": 65,
   "id": "615d3a4d",
   "metadata": {},
   "outputs": [
    {
     "name": "stdout",
     "output_type": "stream",
     "text": [
      "Before: {'Paintbrush': 5, 'Scissors': 9, 'Paper': 90}\n",
      "Gluestick is not in the list\n",
      "Cup is not in the list\n",
      "Scissors is in the list\n",
      "After: {'Paintbrush': 5, 'Scissors': 2, 'Paper': 90, 'Gluestick': 5, 'Cup': 10}\n"
     ]
    }
   ],
   "source": [
    "S={'Paintbrush':5,'Scissors':9,'Paper':90}\n",
    "print (\"Before:\", S)\n",
    "\n",
    "def add_item(item, quantity):\n",
    "    if item in S:\n",
    "        print (item,'is in the list') \n",
    "    else:\n",
    "        print (item,'is not in the list')\n",
    "    S[item]=quantity\n",
    "\n",
    "add_item('Gluestick',5)\n",
    "add_item('Cup', 10)\n",
    "add_item('Scissors', 2)\n",
    "\n",
    "print (\"After:\", S)"
   ]
  },
  {
   "cell_type": "code",
   "execution_count": null,
   "id": "62ea9c23",
   "metadata": {},
   "outputs": [],
   "source": []
  },
  {
   "cell_type": "code",
   "execution_count": null,
   "id": "9c24a434",
   "metadata": {},
   "outputs": [],
   "source": []
  }
 ],
 "metadata": {
  "kernelspec": {
   "display_name": "Python 3 (ipykernel)",
   "language": "python",
   "name": "python3"
  },
  "language_info": {
   "codemirror_mode": {
    "name": "ipython",
    "version": 3
   },
   "file_extension": ".py",
   "mimetype": "text/x-python",
   "name": "python",
   "nbconvert_exporter": "python",
   "pygments_lexer": "ipython3",
   "version": "3.11.4"
  }
 },
 "nbformat": 4,
 "nbformat_minor": 5
}
