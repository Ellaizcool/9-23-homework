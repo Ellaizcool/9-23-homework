{
 "cells": [
  {
   "cell_type": "code",
   "execution_count": 22,
   "id": "241ce195",
   "metadata": {},
   "outputs": [
    {
     "name": "stdout",
     "output_type": "stream",
     "text": [
      "Ella likes strawberries\n"
     ]
    }
   ],
   "source": [
    "z = \"Ella likes apples\"\n",
    "\n",
    "x = z.replace(\"apples\", \"strawberries\")\n",
    "\n",
    "print(x)"
   ]
  },
  {
   "cell_type": "code",
   "execution_count": 23,
   "id": "8e69dcd8",
   "metadata": {},
   "outputs": [
    {
     "name": "stdout",
     "output_type": "stream",
     "text": [
      "Of all fruits, banana is my favorite\n"
     ]
    }
   ],
   "source": [
    "z = \"banana\"\n",
    "\n",
    "x = z.lstrip()\n",
    "\n",
    "print(\"Of all fruits,\",x,\"is my favorite\")"
   ]
  },
  {
   "cell_type": "code",
   "execution_count": 49,
   "id": "91a34299",
   "metadata": {},
   "outputs": [
    {
     "name": "stdout",
     "output_type": "stream",
     "text": [
      " apple\n"
     ]
    }
   ],
   "source": [
    "txt = \"wiiiiggggglllllllllleeeeeeeee apple\"\n",
    "\n",
    "x = txt.lstrip(\"eliwg\")\n",
    "\n",
    "print(x)"
   ]
  },
  {
   "cell_type": "code",
   "execution_count": 51,
   "id": "8e19df31",
   "metadata": {},
   "outputs": [
    {
     "name": "stdout",
     "output_type": "stream",
     "text": [
      "of all fruits, banana is my favorite\n"
     ]
    }
   ],
   "source": [
    "txt = \"     banana     \"\n",
    "\n",
    "x = txt.strip()\n",
    "\n",
    "print(\"Of all fruits,\",x,\"is my favorite\")"
   ]
  },
  {
   "cell_type": "code",
   "execution_count": 53,
   "id": "d515bb6d",
   "metadata": {},
   "outputs": [
    {
     "name": "stdout",
     "output_type": "stream",
     "text": [
      " banana \n"
     ]
    }
   ],
   "source": [
    "txt = \"aaahhiibbllleee banana woooorrrrrrrppppppp\"\n",
    "\n",
    "x = txt.strip(\"ahbelpwroi\")\n",
    "\n",
    "print(x) "
   ]
  },
  {
   "cell_type": "code",
   "execution_count": null,
   "id": "e7969792",
   "metadata": {},
   "outputs": [],
   "source": []
  }
 ],
 "metadata": {
  "kernelspec": {
   "display_name": "Python 3 (ipykernel)",
   "language": "python",
   "name": "python3"
  },
  "language_info": {
   "codemirror_mode": {
    "name": "ipython",
    "version": 3
   },
   "file_extension": ".py",
   "mimetype": "text/x-python",
   "name": "python",
   "nbconvert_exporter": "python",
   "pygments_lexer": "ipython3",
   "version": "3.11.4"
  }
 },
 "nbformat": 4,
 "nbformat_minor": 5
}
