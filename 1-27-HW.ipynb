{
 "cells": [
  {
   "cell_type": "code",
   "execution_count": 14,
   "id": "6e1dd198",
   "metadata": {},
   "outputs": [],
   "source": [
    "def print_first_last(x):\n",
    "    print()"
   ]
  },
  {
   "cell_type": "code",
   "execution_count": 16,
   "id": "78c67a93",
   "metadata": {},
   "outputs": [
    {
     "ename": "SyntaxError",
     "evalue": "invalid syntax (234598882.py, line 1)",
     "output_type": "error",
     "traceback": [
      "\u001b[0;36m  Cell \u001b[0;32mIn[16], line 1\u001b[0;36m\u001b[0m\n\u001b[0;31m    print_first_last(bat):\u001b[0m\n\u001b[0m                         ^\u001b[0m\n\u001b[0;31mSyntaxError\u001b[0m\u001b[0;31m:\u001b[0m invalid syntax\n"
     ]
    }
   ],
   "source": [
    "print_first_last(bat):"
   ]
  },
  {
   "cell_type": "code",
   "execution_count": 1,
   "id": "203de13f",
   "metadata": {},
   "outputs": [],
   "source": [
    "def print_first_last(s):\n",
    "    print(c,e)\n",
    "s='cube'"
   ]
  },
  {
   "cell_type": "code",
   "execution_count": 2,
   "id": "deb72bfd",
   "metadata": {},
   "outputs": [
    {
     "ename": "NameError",
     "evalue": "name 'cube' is not defined",
     "output_type": "error",
     "traceback": [
      "\u001b[0;31m---------------------------------------------------------------------------\u001b[0m",
      "\u001b[0;31mNameError\u001b[0m                                 Traceback (most recent call last)",
      "Cell \u001b[0;32mIn[2], line 1\u001b[0m\n\u001b[0;32m----> 1\u001b[0m print_first_last(cube)\n",
      "\u001b[0;31mNameError\u001b[0m: name 'cube' is not defined"
     ]
    }
   ],
   "source": [
    "print_first_last(cube)"
   ]
  },
  {
   "cell_type": "code",
   "execution_count": 17,
   "id": "de38e520",
   "metadata": {},
   "outputs": [],
   "source": [
    "def print_first_last(s): \n",
    "    last_word = s.split(s)[-2] \n",
    "    return(last_word)"
   ]
  },
  {
   "cell_type": "code",
   "execution_count": 18,
   "id": "e0b45ca7",
   "metadata": {
    "scrolled": true
   },
   "outputs": [
    {
     "data": {
      "text/plain": [
       "''"
      ]
     },
     "execution_count": 18,
     "metadata": {},
     "output_type": "execute_result"
    }
   ],
   "source": [
    "print_first_last('cube')"
   ]
  },
  {
   "cell_type": "code",
   "execution_count": 19,
   "id": "4c996fbb",
   "metadata": {},
   "outputs": [],
   "source": [
    "def print_first_last(s): \n",
    "    first_word = s[0]\n",
    "    last_word = s[-1]\n",
    "    return(first_word,'and',last_word)"
   ]
  },
  {
   "cell_type": "code",
   "execution_count": 20,
   "id": "94cec5be",
   "metadata": {},
   "outputs": [
    {
     "data": {
      "text/plain": [
       "('h', 'and', 'o')"
      ]
     },
     "execution_count": 20,
     "metadata": {},
     "output_type": "execute_result"
    }
   ],
   "source": [
    "print_first_last('heeeeehoooo')"
   ]
  },
  {
   "cell_type": "code",
   "execution_count": null,
   "id": "bd364901",
   "metadata": {},
   "outputs": [],
   "source": []
  },
  {
   "cell_type": "code",
   "execution_count": null,
   "id": "208d0158",
   "metadata": {},
   "outputs": [],
   "source": []
  }
 ],
 "metadata": {
  "kernelspec": {
   "display_name": "Python 3 (ipykernel)",
   "language": "python",
   "name": "python3"
  },
  "language_info": {
   "codemirror_mode": {
    "name": "ipython",
    "version": 3
   },
   "file_extension": ".py",
   "mimetype": "text/x-python",
   "name": "python",
   "nbconvert_exporter": "python",
   "pygments_lexer": "ipython3",
   "version": "3.11.4"
  }
 },
 "nbformat": 4,
 "nbformat_minor": 5
}
