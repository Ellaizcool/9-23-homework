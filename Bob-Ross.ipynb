{
 "cells": [
  {
   "cell_type": "code",
   "execution_count": 61,
   "id": "b289dab2",
   "metadata": {
    "scrolled": true
   },
   "outputs": [],
   "source": [
    "def reward (p1,p2):\n",
    "    r1=110-(p1*10)\n",
    "    if (r1<0):\n",
    "        r1=0\n",
    "    print('Dad: Your Optics reward is',r1,'dollars')\n",
    "    \n",
    "    r2=110-(p2*10)\n",
    "    if (r2<0):\n",
    "        r2=0\n",
    "    print('Dad: Your Road Scholar reward is', r2,'dollars')\n",
    "    \n",
    "    total=r1+r2\n",
    "    print('Dad: Your total is',total,'dollars!')\n",
    "    print('Dad: Ooga Booga')"
   ]
  },
  {
   "cell_type": "code",
   "execution_count": 62,
   "id": "52d6a93b",
   "metadata": {},
   "outputs": [
    {
     "name": "stdout",
     "output_type": "stream",
     "text": [
      "Dad: Your Optics reward is 80 dollars\n",
      "Dad: Your Road Scholar reward is 70 dollars\n",
      "Dad: Your total is 150 dollars!\n",
      "Dad: Ooga Booga\n"
     ]
    }
   ],
   "source": [
    "reward (3,4)"
   ]
  },
  {
   "cell_type": "code",
   "execution_count": null,
   "id": "db91a1f4",
   "metadata": {},
   "outputs": [],
   "source": []
  },
  {
   "cell_type": "code",
   "execution_count": null,
   "id": "0ee5a856",
   "metadata": {},
   "outputs": [],
   "source": []
  }
 ],
 "metadata": {
  "kernelspec": {
   "display_name": "Python 3 (ipykernel)",
   "language": "python",
   "name": "python3"
  },
  "language_info": {
   "codemirror_mode": {
    "name": "ipython",
    "version": 3
   },
   "file_extension": ".py",
   "mimetype": "text/x-python",
   "name": "python",
   "nbconvert_exporter": "python",
   "pygments_lexer": "ipython3",
   "version": "3.11.4"
  }
 },
 "nbformat": 4,
 "nbformat_minor": 5
}
