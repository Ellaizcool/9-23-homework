{
 "cells": [
  {
   "cell_type": "code",
   "execution_count": 88,
   "id": "7f26bd96",
   "metadata": {},
   "outputs": [
    {
     "data": {
      "text/plain": [
       "'not multiple'"
      ]
     },
     "execution_count": 88,
     "metadata": {},
     "output_type": "execute_result"
    }
   ],
   "source": [
    " def multiple_of_4_and_6 (x):\n",
    "    if (x%4==0):\n",
    "        if (x%6==0):  \n",
    "            return ('multiple') \n",
    "        else:\n",
    "            return ('not multiple')\n",
    "    else: \n",
    "        return('not multiple')\n",
    "multiple_of_4_and_6 (16)"
   ]
  },
  {
   "cell_type": "code",
   "execution_count": null,
   "id": "af32af64",
   "metadata": {},
   "outputs": [],
   "source": []
  }
 ],
 "metadata": {
  "kernelspec": {
   "display_name": "Python 3 (ipykernel)",
   "language": "python",
   "name": "python3"
  },
  "language_info": {
   "codemirror_mode": {
    "name": "ipython",
    "version": 3
   },
   "file_extension": ".py",
   "mimetype": "text/x-python",
   "name": "python",
   "nbconvert_exporter": "python",
   "pygments_lexer": "ipython3",
   "version": "3.11.4"
  }
 },
 "nbformat": 4,
 "nbformat_minor": 5
}
