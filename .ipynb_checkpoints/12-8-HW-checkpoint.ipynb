{
 "cells": [
  {
   "cell_type": "code",
   "execution_count": 5,
   "id": "7f26bd96",
   "metadata": {
    "scrolled": true
   },
   "outputs": [
    {
     "data": {
      "text/plain": [
       "'x is a multiple of 6'"
      ]
     },
     "execution_count": 5,
     "metadata": {},
     "output_type": "execute_result"
    }
   ],
   "source": [
    " def multiple_of_4_and_6 (x):\n",
    "    if (x%4==0):\n",
    "        if (x%6==0):  \n",
    "            return ('muliple') \n",
    "        else:\n",
    "            return ('not multiple')\n",
    "    else: \n",
    "        return('not multiple')\n",
    "multiple_of_4_and_6 (16)"
   ]
  }
 ],
 "metadata": {
  "kernelspec": {
   "display_name": "Python 3 (ipykernel)",
   "language": "python",
   "name": "python3"
  },
  "language_info": {
   "codemirror_mode": {
    "name": "ipython",
    "version": 3
   },
   "file_extension": ".py",
   "mimetype": "text/x-python",
   "name": "python",
   "nbconvert_exporter": "python",
   "pygments_lexer": "ipython3",
   "version": "3.11.4"
  }
 },
 "nbformat": 4,
 "nbformat_minor": 5
}
