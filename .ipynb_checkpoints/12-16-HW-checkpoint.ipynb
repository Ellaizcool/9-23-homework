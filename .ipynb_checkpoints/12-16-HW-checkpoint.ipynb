{
 "cells": [
  {
   "cell_type": "code",
   "execution_count": 41,
   "id": "53ff9a6f",
   "metadata": {},
   "outputs": [
    {
     "name": "stdout",
     "output_type": "stream",
     "text": [
      "Multiple of neither\n"
     ]
    }
   ],
   "source": [
    " def multiple_of_4_and_6 (x):\n",
    "        if (x%4==0):\n",
    "            if (x%6==0):\n",
    "                print('Multiple of both')    \n",
    "            else: \n",
    "                print('Multiple of 4') \n",
    "        else:    \n",
    "            if (x%6==0):\n",
    "                print('Multiple of 6')\n",
    "            else:\n",
    "                print('Multiple of neither')\n",
    "multiple_of_4_and_6 (5)"
   ]
  },
  {
   "cell_type": "code",
   "execution_count": 51,
   "id": "44eea17b",
   "metadata": {},
   "outputs": [
    {
     "name": "stdout",
     "output_type": "stream",
     "text": [
      "Input is  4\n",
      "Multiple of 4\n",
      "\n",
      "\n",
      "Input is  5\n",
      "Multiple of neither\n",
      "\n",
      "\n",
      "Input is  6\n",
      "Multiple of 6\n",
      "\n",
      "\n",
      "Input is  7\n",
      "Multiple of neither\n",
      "\n",
      "\n",
      "Input is  8\n",
      "Multiple of 4\n",
      "\n",
      "\n",
      "Input is  9\n",
      "Multiple of neither\n",
      "\n",
      "\n",
      "Input is  10\n",
      "Multiple of neither\n",
      "\n",
      "\n",
      "Input is  11\n",
      "Multiple of neither\n",
      "\n",
      "\n",
      "Input is  12\n",
      "Multiple of both\n",
      "\n",
      "\n",
      "Input is  13\n",
      "Multiple of neither\n",
      "\n",
      "\n",
      "Input is  14\n",
      "Multiple of neither\n",
      "\n",
      "\n",
      "Input is  15\n",
      "Multiple of neither\n",
      "\n",
      "\n",
      "Input is  16\n",
      "Multiple of 4\n",
      "\n",
      "\n"
     ]
    }
   ],
   "source": [
    "for x in range(4,17):\n",
    "    print ('Input is ' ,x)\n",
    "    multiple_of_4_and_6 (x)\n",
    "    print ('\\n')"
   ]
  },
  {
   "cell_type": "code",
   "execution_count": null,
   "id": "ed3ab54c",
   "metadata": {},
   "outputs": [],
   "source": []
  }
 ],
 "metadata": {
  "kernelspec": {
   "display_name": "Python 3 (ipykernel)",
   "language": "python",
   "name": "python3"
  },
  "language_info": {
   "codemirror_mode": {
    "name": "ipython",
    "version": 3
   },
   "file_extension": ".py",
   "mimetype": "text/x-python",
   "name": "python",
   "nbconvert_exporter": "python",
   "pygments_lexer": "ipython3",
   "version": "3.11.4"
  }
 },
 "nbformat": 4,
 "nbformat_minor": 5
}
