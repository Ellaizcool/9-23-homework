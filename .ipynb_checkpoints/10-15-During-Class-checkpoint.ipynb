{
 "cells": [
  {
   "cell_type": "code",
   "execution_count": 2,
   "id": "aee47ebd",
   "metadata": {},
   "outputs": [
    {
     "ename": "SyntaxError",
     "evalue": "incomplete input (83297825.py, line 2)",
     "output_type": "error",
     "traceback": [
      "\u001b[0;36m  Cell \u001b[0;32mIn[2], line 2\u001b[0;36m\u001b[0m\n\u001b[0;31m    # header for define a function: 1.def 2. followed by a name of function.\u001b[0m\n\u001b[0m                                                                             ^\u001b[0m\n\u001b[0;31mSyntaxError\u001b[0m\u001b[0;31m:\u001b[0m incomplete input\n"
     ]
    }
   ],
   "source": [
    "def introducemyself():\n",
    "# header for define a function: 1.def 2. followed by a name of function. "
   ]
  },
  {
   "cell_type": "code",
   "execution_count": 30,
   "id": "277c9742",
   "metadata": {},
   "outputs": [
    {
     "ename": "SyntaxError",
     "evalue": "unexpected character after line continuation character (3440869899.py, line 2)",
     "output_type": "error",
     "traceback": [
      "\u001b[0;36m  Cell \u001b[0;32mIn[30], line 2\u001b[0;36m\u001b[0m\n\u001b[0;31m    Name=input('Robot: What is your name?')\\n\u001b[0m\n\u001b[0m                                            ^\u001b[0m\n\u001b[0;31mSyntaxError\u001b[0m\u001b[0;31m:\u001b[0m unexpected character after line continuation character\n"
     ]
    }
   ],
   "source": [
    "def introducemyself():\n",
    "    Name=input('Robot: What is your name?')\n",
    "    print('Robot: Hi,', Name, '!'  \\n)\n",
    "    Sport=input('Robot: What is your favorite sport?')\n",
    "    print('Robot: I like', Sport,'too!')"
   ]
  },
  {
   "cell_type": "code",
   "execution_count": 25,
   "id": "056bf73c",
   "metadata": {},
   "outputs": [
    {
     "name": "stdout",
     "output_type": "stream",
     "text": [
      "Robot: What is your name?bob\n",
      "Robot: Hi, bob !\n",
      "Robot: What is your favorite sport?helkj\n",
      "Robot: I like helkj too!\n"
     ]
    }
   ],
   "source": [
    "introducemyself()"
   ]
  },
  {
   "cell_type": "code",
   "execution_count": 31,
   "id": "4ba1cda2",
   "metadata": {},
   "outputs": [
    {
     "ename": "SyntaxError",
     "evalue": "invalid syntax (1523915254.py, line 1)",
     "output_type": "error",
     "traceback": [
      "\u001b[0;36m  Cell \u001b[0;32mIn[31], line 1\u001b[0;36m\u001b[0m\n\u001b[0;31m    why we want to have a function\u001b[0m\n\u001b[0m        ^\u001b[0m\n\u001b[0;31mSyntaxError\u001b[0m\u001b[0;31m:\u001b[0m invalid syntax\n"
     ]
    }
   ],
   "source": [
    "why we want to have a function\n",
    "#1. Reuse\n",
    "#2.Organize and make less mistakes\n",
    "#3.Separate the long codes into small functions\n",
    "#4.Genorization"
   ]
  },
  {
   "cell_type": "code",
   "execution_count": 32,
   "id": "060ca17c",
   "metadata": {
    "scrolled": true
   },
   "outputs": [
    {
     "data": {
      "text/plain": [
       "<function __main__.areaofrectangular()>"
      ]
     },
     "execution_count": 32,
     "metadata": {},
     "output_type": "execute_result"
    }
   ],
   "source": [
    "def areaofrectangular():\n",
    "    Width=3\n",
    "    Length=4\n",
    "    Area=Width*Length\n",
    "areaofrectangular"
   ]
  },
  {
   "cell_type": "code",
   "execution_count": null,
   "id": "2f63fc70",
   "metadata": {},
   "outputs": [],
   "source": [
    "def area2(Width,Length):\n",
    "    Area=Width*Length\n",
    "    print= Area"
   ]
  }
 ],
 "metadata": {
  "kernelspec": {
   "display_name": "Python 3 (ipykernel)",
   "language": "python",
   "name": "python3"
  },
  "language_info": {
   "codemirror_mode": {
    "name": "ipython",
    "version": 3
   },
   "file_extension": ".py",
   "mimetype": "text/x-python",
   "name": "python",
   "nbconvert_exporter": "python",
   "pygments_lexer": "ipython3",
   "version": "3.11.4"
  }
 },
 "nbformat": 4,
 "nbformat_minor": 5
}
