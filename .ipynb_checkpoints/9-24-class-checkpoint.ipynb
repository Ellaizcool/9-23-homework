{
 "cells": [
  {
   "cell_type": "code",
   "execution_count": 1,
   "id": "c003c16d",
   "metadata": {},
   "outputs": [
    {
     "name": "stdout",
     "output_type": "stream",
     "text": [
      "Robot: What did you do?\n",
      "bob\n",
      "Robot: Why did you bob ?\n"
     ]
    }
   ],
   "source": [
    "E=input('Robot: What did you do?\\n')\n",
    "print('Robot: Why did you' ,E,'?')"
   ]
  },
  {
   "cell_type": "code",
   "execution_count": 10,
   "id": "812c8126",
   "metadata": {},
   "outputs": [
    {
     "name": "stdout",
     "output_type": "stream",
     "text": [
      "5e+23\n"
     ]
    }
   ],
   "source": [
    "dinnercost =50\n",
    "tippercentage=70\n",
    "tip=dinnercost*tippercentage\n",
    "print(Tip)"
   ]
  },
  {
   "cell_type": "code",
   "execution_count": null,
   "id": "f95d7a75",
   "metadata": {},
   "outputs": [],
   "source": [
    "homework: complete dinnercost thingy"
   ]
  },
  {
   "cell_type": "markdown",
   "id": "cdf7a80c",
   "metadata": {},
   "source": [
    "sport=input('Robot: What is your favorite sport?\\n')\n",
    "print('Robot: do you like', sport,'?')\n",
    "answer=input('what do you like about,',sport)\n",
    "print('Cool!',answer,'is nice!')"
   ]
  }
 ],
 "metadata": {
  "kernelspec": {
   "display_name": "Python 3 (ipykernel)",
   "language": "python",
   "name": "python3"
  },
  "language_info": {
   "codemirror_mode": {
    "name": "ipython",
    "version": 3
   },
   "file_extension": ".py",
   "mimetype": "text/x-python",
   "name": "python",
   "nbconvert_exporter": "python",
   "pygments_lexer": "ipython3",
   "version": "3.11.4"
  }
 },
 "nbformat": 4,
 "nbformat_minor": 5
}
