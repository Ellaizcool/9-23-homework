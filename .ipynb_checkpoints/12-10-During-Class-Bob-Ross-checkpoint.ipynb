{
 "cells": [
  {
   "cell_type": "code",
   "execution_count": 6,
   "id": "7ef0b1c7",
   "metadata": {},
   "outputs": [
    {
     "name": "stdout",
     "output_type": "stream",
     "text": [
      "x is smaller than 5\n"
     ]
    }
   ],
   "source": [
    "x=6\n",
    "\n",
    "if x>5:\n",
    "    print('x is smaller than 5')"
   ]
  },
  {
   "cell_type": "code",
   "execution_count": 36,
   "id": "6b4f70aa",
   "metadata": {
    "scrolled": true
   },
   "outputs": [
    {
     "name": "stdout",
     "output_type": "stream",
     "text": [
      " My dog stepped on a bee. Michael Jackson goes heehee. Without my glasses i cannot see. Who lives in a pinapple under the sea. \n"
     ]
    }
   ],
   "source": [
    "x=4\n",
    "\n",
    "if x>5:\n",
    "    print ('Pneumonoultramicroscopicsilicovolcanoconiosis')\n",
    "else: \n",
    "        print(' My dog stepped on a bee. Michael Jackson goes heehee. Without my glasses i cannot see. Who lives in a pinapple under the sea. ')"
   ]
  },
  {
   "cell_type": "code",
   "execution_count": 34,
   "id": "c4095157",
   "metadata": {
    "scrolled": false
   },
   "outputs": [
    {
     "name": "stdout",
     "output_type": "stream",
     "text": [
      "x is not smaller than 5\n"
     ]
    }
   ],
   "source": [
    "def compare_x(x):\n",
    "    x=34\n",
    "\n",
    "    if x<5:\n",
    "        print('x is smaller than 5')\n",
    "    elif x==5:\n",
    "        print ('x is equal to 5')\n",
    "    else:\n",
    "        print ('x is bigger than 5')\n",
    "        \n",
    "compare_x(x) "
   ]
  },
  {
   "cell_type": "code",
   "execution_count": null,
   "id": "e87e9aec",
   "metadata": {},
   "outputs": [],
   "source": [
    "todays hw: extend my function thingy"
   ]
  }
 ],
 "metadata": {
  "kernelspec": {
   "display_name": "Python 3 (ipykernel)",
   "language": "python",
   "name": "python3"
  },
  "language_info": {
   "codemirror_mode": {
    "name": "ipython",
    "version": 3
   },
   "file_extension": ".py",
   "mimetype": "text/x-python",
   "name": "python",
   "nbconvert_exporter": "python",
   "pygments_lexer": "ipython3",
   "version": "3.11.4"
  }
 },
 "nbformat": 4,
 "nbformat_minor": 5
}
