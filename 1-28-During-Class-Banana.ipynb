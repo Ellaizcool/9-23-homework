{
 "cells": [
  {
   "cell_type": "code",
   "execution_count": 7,
   "id": "85a94329",
   "metadata": {},
   "outputs": [],
   "source": [
    "s='banana'"
   ]
  },
  {
   "cell_type": "code",
   "execution_count": 8,
   "id": "5ec61bd4",
   "metadata": {},
   "outputs": [
    {
     "name": "stdout",
     "output_type": "stream",
     "text": [
      "0 b\n",
      "1 a\n",
      "2 n\n",
      "3 a\n",
      "4 n\n",
      "5 a\n"
     ]
    }
   ],
   "source": [
    "for i in range(len(s)):\n",
    "    print(i,s[i])"
   ]
  },
  {
   "cell_type": "code",
   "execution_count": 9,
   "id": "6611e994",
   "metadata": {},
   "outputs": [
    {
     "name": "stdout",
     "output_type": "stream",
     "text": [
      "banana\n",
      "banana\n",
      "banana\n",
      "banana\n",
      "banana\n"
     ]
    }
   ],
   "source": [
    "for _ in range(5):\n",
    "    print(s)"
   ]
  },
  {
   "cell_type": "code",
   "execution_count": 10,
   "id": "2c1f6294",
   "metadata": {},
   "outputs": [],
   "source": [
    "s='banana'"
   ]
  },
  {
   "cell_type": "code",
   "execution_count": 11,
   "id": "7b5c714c",
   "metadata": {},
   "outputs": [
    {
     "data": {
      "text/plain": [
       "'bana'"
      ]
     },
     "execution_count": 11,
     "metadata": {},
     "output_type": "execute_result"
    }
   ],
   "source": [
    "s[:4]"
   ]
  },
  {
   "cell_type": "code",
   "execution_count": 12,
   "id": "7c42bc07",
   "metadata": {},
   "outputs": [],
   "source": [
    "s='banananananananananananananananananananananananananananananananananananananananananananananananananananananananananananananananananananananananananana'"
   ]
  },
  {
   "cell_type": "code",
   "execution_count": 13,
   "id": "667ea595",
   "metadata": {},
   "outputs": [
    {
     "data": {
      "text/plain": [
       "150"
      ]
     },
     "execution_count": 13,
     "metadata": {},
     "output_type": "execute_result"
    }
   ],
   "source": [
    "len(s)banana"
   ]
  },
  {
   "cell_type": "code",
   "execution_count": 36,
   "id": "7ad2ea2c",
   "metadata": {},
   "outputs": [],
   "source": [
    "def find_a_letter(s,x):\n",
    "    for i in range(len(s)):\n",
    "        if s[i]==x:\n",
    "            return True\n",
    "    return False"
   ]
  },
  {
   "cell_type": "code",
   "execution_count": 37,
   "id": "46e122be",
   "metadata": {},
   "outputs": [
    {
     "data": {
      "text/plain": [
       "True"
      ]
     },
     "execution_count": 37,
     "metadata": {},
     "output_type": "execute_result"
    }
   ],
   "source": [
    "find_a_letter('banana','a')"
   ]
  },
  {
   "cell_type": "code",
   "execution_count": null,
   "id": "36b9d179",
   "metadata": {},
   "outputs": [],
   "source": []
  }
 ],
 "metadata": {
  "kernelspec": {
   "display_name": "Python 3 (ipykernel)",
   "language": "python",
   "name": "python3"
  },
  "language_info": {
   "codemirror_mode": {
    "name": "ipython",
    "version": 3
   },
   "file_extension": ".py",
   "mimetype": "text/x-python",
   "name": "python",
   "nbconvert_exporter": "python",
   "pygments_lexer": "ipython3",
   "version": "3.11.4"
  }
 },
 "nbformat": 4,
 "nbformat_minor": 5
}
