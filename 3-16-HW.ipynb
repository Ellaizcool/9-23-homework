{
 "cells": [
  {
   "cell_type": "code",
   "execution_count": 12,
   "id": "a6db872a",
   "metadata": {},
   "outputs": [],
   "source": [
    "def ughghghg (x):\n",
    "    even_indice=x[0]+x[2]+x[4]\n",
    "    return even_indice"
   ]
  },
  {
   "cell_type": "code",
   "execution_count": 13,
   "id": "0599be0f",
   "metadata": {},
   "outputs": [
    {
     "data": {
      "text/plain": [
       "48"
      ]
     },
     "execution_count": 13,
     "metadata": {},
     "output_type": "execute_result"
    }
   ],
   "source": [
    "ughghghg ([1,23,45,23,2])"
   ]
  },
  {
   "cell_type": "code",
   "execution_count": null,
   "id": "59fc2997",
   "metadata": {},
   "outputs": [],
   "source": []
  }
 ],
 "metadata": {
  "kernelspec": {
   "display_name": "Python 3 (ipykernel)",
   "language": "python",
   "name": "python3"
  },
  "language_info": {
   "codemirror_mode": {
    "name": "ipython",
    "version": 3
   },
   "file_extension": ".py",
   "mimetype": "text/x-python",
   "name": "python",
   "nbconvert_exporter": "python",
   "pygments_lexer": "ipython3",
   "version": "3.11.4"
  }
 },
 "nbformat": 4,
 "nbformat_minor": 5
}
