{
 "cells": [
  {
   "cell_type": "code",
   "execution_count": 1,
   "id": "5c8a5d78",
   "metadata": {},
   "outputs": [],
   "source": [
    "s='peanut'"
   ]
  },
  {
   "cell_type": "code",
   "execution_count": 2,
   "id": "4353012c",
   "metadata": {},
   "outputs": [
    {
     "data": {
      "text/plain": [
       "6"
      ]
     },
     "execution_count": 2,
     "metadata": {},
     "output_type": "execute_result"
    }
   ],
   "source": [
    "len(s)"
   ]
  },
  {
   "cell_type": "code",
   "execution_count": 3,
   "id": "58ce94c7",
   "metadata": {},
   "outputs": [],
   "source": [
    "s='thermostat'"
   ]
  },
  {
   "cell_type": "code",
   "execution_count": 4,
   "id": "444a1785",
   "metadata": {},
   "outputs": [
    {
     "data": {
      "text/plain": [
       "10"
      ]
     },
     "execution_count": 4,
     "metadata": {},
     "output_type": "execute_result"
    }
   ],
   "source": [
    "len(s)"
   ]
  },
  {
   "cell_type": "code",
   "execution_count": 5,
   "id": "2c89aa23",
   "metadata": {},
   "outputs": [],
   "source": [
    "s='sailboat'"
   ]
  },
  {
   "cell_type": "code",
   "execution_count": 6,
   "id": "f0195251",
   "metadata": {},
   "outputs": [
    {
     "data": {
      "text/plain": [
       "8"
      ]
     },
     "execution_count": 6,
     "metadata": {},
     "output_type": "execute_result"
    }
   ],
   "source": [
    "len(s)"
   ]
  },
  {
   "cell_type": "code",
   "execution_count": 7,
   "id": "3780be36",
   "metadata": {},
   "outputs": [],
   "source": [
    "s='fridge'"
   ]
  },
  {
   "cell_type": "code",
   "execution_count": 8,
   "id": "e6cbc555",
   "metadata": {},
   "outputs": [
    {
     "data": {
      "text/plain": [
       "6"
      ]
     },
     "execution_count": 8,
     "metadata": {},
     "output_type": "execute_result"
    }
   ],
   "source": [
    "len(s)"
   ]
  },
  {
   "cell_type": "code",
   "execution_count": 9,
   "id": "7b05fe4e",
   "metadata": {},
   "outputs": [],
   "source": [
    "s='elephant'"
   ]
  },
  {
   "cell_type": "code",
   "execution_count": 27,
   "id": "def86a16",
   "metadata": {},
   "outputs": [
    {
     "data": {
      "text/plain": [
       "511"
      ]
     },
     "execution_count": 27,
     "metadata": {},
     "output_type": "execute_result"
    }
   ],
   "source": [
    "len(s)"
   ]
  },
  {
   "cell_type": "code",
   "execution_count": 19,
   "id": "cfb83ff5",
   "metadata": {},
   "outputs": [],
   "source": [
    "s='lllllllllluuuuuuuuuuuuuuuuuuuuuuuccccccccccccccccccaaaaaaaaaaaaaaaaaasssssssssss'"
   ]
  },
  {
   "cell_type": "code",
   "execution_count": 20,
   "id": "6e06b6b0",
   "metadata": {},
   "outputs": [
    {
     "data": {
      "text/plain": [
       "80"
      ]
     },
     "execution_count": 20,
     "metadata": {},
     "output_type": "execute_result"
    }
   ],
   "source": [
    "len(s)"
   ]
  },
  {
   "cell_type": "code",
   "execution_count": 30,
   "id": "0c04adeb",
   "metadata": {},
   "outputs": [],
   "source": [
    "s='yyyyyyyyyyyyyyyyyyyyyyyyyyyyyyyyyyyyyyyyyyyyyyyyyyyyyyyyyyyyyyyyyyyyyyyyyyyyyyyyyyyyyyyyyyyyyyyyiiiiiiiiiiiiiiiiiiiiiiiiiiiiiiiiiiiiiiiiiiiiiiiiiiiiiiiiiiiiiiiiiiiiiiiiiiiiiiiiiiiiiiiiiiiiiiiiiyyyyyyyyyyyyyyyyyyyyyyyyyyyyyyyyyyyyyyyyyyyyyyyyyyyyyyyyyyyyyyyyyyyyyyyyyyyyyyyyyyyyyyyyyyyyyyyyyyyyyyyyyyyyyyyyyyyyyyyyyyyiiiiiiiiiiiiiiiiiiiiiiiiiiiiiiiiiiiiiiiiiiiiiiiiiiiiiiiiiiiiiiiiiiiiiiiiiiiiiiiiiiiiiiiiiiiiiiiiiiiiiiiiiiiiiiiiiiiiiiiiiiiiiiiiiiiiiiiiiiiiiiiiiiiiiiiiiiiiiiiiiiiiiiiiiiiiiiiiiiiiiiiiiiiiiiiiii'"
   ]
  },
  {
   "cell_type": "code",
   "execution_count": 31,
   "id": "792e7faa",
   "metadata": {},
   "outputs": [
    {
     "data": {
      "text/plain": [
       "510"
      ]
     },
     "execution_count": 31,
     "metadata": {},
     "output_type": "execute_result"
    }
   ],
   "source": [
    "len(s)"
   ]
  },
  {
   "cell_type": "code",
   "execution_count": 33,
   "id": "9164451a",
   "metadata": {},
   "outputs": [],
   "source": [
    "s='yiyi'"
   ]
  },
  {
   "cell_type": "code",
   "execution_count": 34,
   "id": "f79dee10",
   "metadata": {},
   "outputs": [
    {
     "data": {
      "text/plain": [
       "4"
      ]
     },
     "execution_count": 34,
     "metadata": {},
     "output_type": "execute_result"
    }
   ],
   "source": [
    "len(s)"
   ]
  },
  {
   "cell_type": "code",
   "execution_count": 35,
   "id": "39566450",
   "metadata": {},
   "outputs": [],
   "source": [
    "s='ddddddddd'"
   ]
  },
  {
   "cell_type": "code",
   "execution_count": 36,
   "id": "93719d20",
   "metadata": {
    "scrolled": true
   },
   "outputs": [
    {
     "data": {
      "text/plain": [
       "9"
      ]
     },
     "execution_count": 36,
     "metadata": {},
     "output_type": "execute_result"
    }
   ],
   "source": [
    "len(s)"
   ]
  },
  {
   "cell_type": "code",
   "execution_count": 37,
   "id": "d10a7481",
   "metadata": {},
   "outputs": [],
   "source": [
    "s='wassup'"
   ]
  },
  {
   "cell_type": "code",
   "execution_count": 38,
   "id": "a7da7824",
   "metadata": {},
   "outputs": [
    {
     "name": "stdout",
     "output_type": "stream",
     "text": [
      "w\n",
      "a\n",
      "s\n",
      "s\n",
      "u\n",
      "p\n"
     ]
    }
   ],
   "source": [
    "for letter in s:\n",
    "    print (letter)"
   ]
  },
  {
   "cell_type": "code",
   "execution_count": null,
   "id": "c248c9e1",
   "metadata": {},
   "outputs": [],
   "source": []
  },
  {
   "cell_type": "code",
   "execution_count": 4,
   "id": "35c65bb4",
   "metadata": {
    "scrolled": false
   },
   "outputs": [
    {
     "ename": "NameError",
     "evalue": "name 'f' is not defined",
     "output_type": "error",
     "traceback": [
      "\u001b[0;31m---------------------------------------------------------------------------\u001b[0m",
      "\u001b[0;31mNameError\u001b[0m                                 Traceback (most recent call last)",
      "Cell \u001b[0;32mIn[4], line 3\u001b[0m\n\u001b[1;32m      1\u001b[0m prefixes\u001b[38;5;241m=\u001b[39m \u001b[38;5;124m'\u001b[39m\u001b[38;5;124mbibbyloop\u001b[39m\u001b[38;5;124m'\u001b[39m\n\u001b[1;32m      2\u001b[0m suffix\u001b[38;5;241m=\u001b[39m\u001b[38;5;124m'\u001b[39m\u001b[38;5;124mack\u001b[39m\u001b[38;5;124m'\u001b[39m\n\u001b[0;32m----> 3\u001b[0m \u001b[38;5;28;01mfor\u001b[39;00m index \u001b[38;5;129;01min\u001b[39;00m \u001b[38;5;28mrange\u001b[39m(\u001b[38;5;28mlen\u001b[39m(f)):\n\u001b[1;32m      4\u001b[0m     \u001b[38;5;28mprint\u001b[39m(f[index]\u001b[38;5;241m+\u001b[39msuffix)\n",
      "\u001b[0;31mNameError\u001b[0m: name 'f' is not defined"
     ]
    }
   ],
   "source": [
    "prefixes= 'bibbyloop'\n",
    "suffix='ack'\n",
    "for index in range(len(f)):\n",
    "    print(f[index]+suffix)"
   ]
  },
  {
   "cell_type": "code",
   "execution_count": 48,
   "id": "492ce7db",
   "metadata": {},
   "outputs": [
    {
     "name": "stdout",
     "output_type": "stream",
     "text": [
      "Uack\n",
      "Eack\n",
      "Hack\n",
      "Cack\n",
      "Back\n",
      "Uack\n",
      "Iack\n",
      "Uack\n",
      "Oack\n",
      "Eack\n",
      "Hack\n",
      "Jack\n"
     ]
    }
   ],
   "source": [
    "for index in range(len(prefixes)):\n",
    "    print(prefixes[index]+suffix)"
   ]
  },
  {
   "cell_type": "code",
   "execution_count": 3,
   "id": "65c3ed1d",
   "metadata": {},
   "outputs": [
    {
     "name": "stdout",
     "output_type": "stream",
     "text": [
      "Uack\n",
      "Eack\n",
      "Hack\n",
      "Cack\n",
      "Back\n",
      "Uack\n",
      "Iack\n",
      "Uack\n",
      "Oack\n",
      "Eack\n",
      "Hack\n",
      "Jack\n"
     ]
    }
   ],
   "source": [
    "for letter in prefixes:\n",
    "    print(letter+suffix)"
   ]
  },
  {
   "cell_type": "code",
   "execution_count": null,
   "id": "9fcf0587",
   "metadata": {},
   "outputs": [],
   "source": []
  }
 ],
 "metadata": {
  "kernelspec": {
   "display_name": "Python 3 (ipykernel)",
   "language": "python",
   "name": "python3"
  },
  "language_info": {
   "codemirror_mode": {
    "name": "ipython",
    "version": 3
   },
   "file_extension": ".py",
   "mimetype": "text/x-python",
   "name": "python",
   "nbconvert_exporter": "python",
   "pygments_lexer": "ipython3",
   "version": "3.11.4"
  }
 },
 "nbformat": 4,
 "nbformat_minor": 5
}
