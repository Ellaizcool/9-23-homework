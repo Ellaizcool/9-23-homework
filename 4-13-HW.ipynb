{
 "cells": [
  {
   "cell_type": "code",
   "execution_count": 7,
   "id": "9edd7c86",
   "metadata": {},
   "outputs": [],
   "source": [
    "def count(E):\n",
    "    Z={}\n",
    "    for letter in E:\n",
    "        if letter not in Z:\n",
    "            Z[letter]=1\n",
    "        else:\n",
    "            Z[letter]=Z[letter]+2\n",
    "    return Z        "
   ]
  },
  {
   "cell_type": "code",
   "execution_count": 12,
   "id": "47f664e4",
   "metadata": {},
   "outputs": [
    {
     "data": {
      "text/plain": [
       "{'b': 2, 'a': 1}"
      ]
     },
     "execution_count": 12,
     "metadata": {},
     "output_type": "execute_result"
    }
   ],
   "source": [
    "count('bab')"
   ]
  },
  {
   "cell_type": "code",
   "execution_count": null,
   "id": "ac56e4d2",
   "metadata": {},
   "outputs": [],
   "source": []
  }
 ],
 "metadata": {
  "kernelspec": {
   "display_name": "Python 3 (ipykernel)",
   "language": "python",
   "name": "python3"
  },
  "language_info": {
   "codemirror_mode": {
    "name": "ipython",
    "version": 3
   },
   "file_extension": ".py",
   "mimetype": "text/x-python",
   "name": "python",
   "nbconvert_exporter": "python",
   "pygments_lexer": "ipython3",
   "version": "3.11.4"
  }
 },
 "nbformat": 4,
 "nbformat_minor": 5
}
