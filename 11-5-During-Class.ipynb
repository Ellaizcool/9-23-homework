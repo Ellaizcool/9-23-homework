{
 "cells": [
  {
   "cell_type": "code",
   "execution_count": 2,
   "id": "7e5a0721",
   "metadata": {},
   "outputs": [
    {
     "name": "stdout",
     "output_type": "stream",
     "text": [
      "0\n",
      "1\n",
      "2\n",
      "3\n",
      "4\n",
      "5\n",
      "6\n",
      "7\n",
      "8\n",
      "9\n"
     ]
    }
   ],
   "source": [
    "for i in range(10):\n",
    "    print(i)"
   ]
  },
  {
   "cell_type": "code",
   "execution_count": 5,
   "id": "0e784273",
   "metadata": {},
   "outputs": [
    {
     "name": "stdout",
     "output_type": "stream",
     "text": [
      "yes\n",
      "yes\n",
      "yes\n",
      "yes\n"
     ]
    }
   ],
   "source": [
    "for i in range (4):\n",
    "    print ('yes')"
   ]
  },
  {
   "cell_type": "code",
   "execution_count": 8,
   "id": "ddf6691e",
   "metadata": {},
   "outputs": [
    {
     "name": "stdout",
     "output_type": "stream",
     "text": [
      "0\n",
      "1\n",
      "2\n"
     ]
    }
   ],
   "source": [
    "for counter in range(3):\n",
    "    print(2-counter)"
   ]
  },
  {
   "cell_type": "code",
   "execution_count": 15,
   "id": "aaca3ffd",
   "metadata": {},
   "outputs": [
    {
     "name": "stdout",
     "output_type": "stream",
     "text": [
      "Dad: What do you want for a gift, Ella?\n",
      "a phone\n",
      "Dad: Ok!!! I will go buy it right now for you!!!!!\n",
      "\n",
      "Dad: Do you want anything else, Ella?\n",
      "100000 lambourghinis\n",
      "Dad: Of course!!! I will buy all of those for you!!!!!\n",
      "\n"
     ]
    }
   ],
   "source": [
    "input('Dad: What do you want for a gift, Ella?\\n')\n",
    "print('Dad: Ok!!! I will go buy it right now for you!!!!!\\n')\n",
    "input('Dad: Do you want anything else, Ella?\\n')\n",
    "print('Dad: Of course!!! I will buy all of those for you!!!!!\\n')"
   ]
  },
  {
   "cell_type": "code",
   "execution_count": 12,
   "id": "e29b8a3c",
   "metadata": {},
   "outputs": [],
   "source": [
    "def countdown (x):\n",
    "    for i in range(x):\n",
    "        print(x-1-i)"
   ]
  },
  {
   "cell_type": "code",
   "execution_count": 13,
   "id": "7b83aa98",
   "metadata": {},
   "outputs": [
    {
     "name": "stdout",
     "output_type": "stream",
     "text": [
      "9\n",
      "8\n",
      "7\n",
      "6\n",
      "5\n",
      "4\n",
      "3\n",
      "2\n",
      "1\n",
      "0\n"
     ]
    }
   ],
   "source": [
    "countdown(10)"
   ]
  },
  {
   "cell_type": "code",
   "execution_count": null,
   "id": "a92880ce",
   "metadata": {},
   "outputs": [],
   "source": []
  }
 ],
 "metadata": {
  "kernelspec": {
   "display_name": "Python 3 (ipykernel)",
   "language": "python",
   "name": "python3"
  },
  "language_info": {
   "codemirror_mode": {
    "name": "ipython",
    "version": 3
   },
   "file_extension": ".py",
   "mimetype": "text/x-python",
   "name": "python",
   "nbconvert_exporter": "python",
   "pygments_lexer": "ipython3",
   "version": "3.11.4"
  }
 },
 "nbformat": 4,
 "nbformat_minor": 5
}
