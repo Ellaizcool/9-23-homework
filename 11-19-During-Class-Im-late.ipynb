{
 "cells": [
  {
   "cell_type": "code",
   "execution_count": 17,
   "id": "50d1185c",
   "metadata": {},
   "outputs": [
    {
     "name": "stdout",
     "output_type": "stream",
     "text": [
      "What is the weather like today? \n",
      "cold\n",
      "Skill issue\n"
     ]
    }
   ],
   "source": [
    "Weather=input('What is the weather like today? \\n')\n",
    "if Weather=='cold':\n",
    "    print('Skill issue')\n",
    "if Weather=='hot':\n",
    "    print('Get outside already!')"
   ]
  },
  {
   "cell_type": "code",
   "execution_count": 16,
   "id": "eecd9ea6",
   "metadata": {},
   "outputs": [
    {
     "data": {
      "text/plain": [
       "False"
      ]
     },
     "execution_count": 16,
     "metadata": {},
     "output_type": "execute_result"
    }
   ],
   "source": [
    "4==5"
   ]
  },
  {
   "cell_type": "code",
   "execution_count": 8,
   "id": "b0ebe4a8",
   "metadata": {},
   "outputs": [
    {
     "name": "stdout",
     "output_type": "stream",
     "text": [
      "What time is it? \n",
      "11PM\n",
      "GET TO BED ALREADY! \n",
      "\n"
     ]
    }
   ],
   "source": [
    "time=input('What time is it? \\n')\n",
    "if time=='11PM':\n",
    "    print('GET TO BED ALREADY! \\n')\n",
    "elif time=='12PM':\n",
    "    print ('GET TO BED!!!!!!!!!')\n",
    "else:\n",
    "    print('Go outside')"
   ]
  },
  {
   "cell_type": "code",
   "execution_count": 28,
   "id": "5f5f6804",
   "metadata": {},
   "outputs": [
    {
     "name": "stdout",
     "output_type": "stream",
     "text": [
      "Where is the teacher? \n",
      "eating food\n",
      "..Get to work\n"
     ]
    }
   ],
   "source": [
    "teacher = input('Where is the teacher? \\n')\n",
    "if input == 'in Florida' or teacher == 'On vacation':\n",
    "    print('No class today!')\n",
    "else: print('..Get to work')"
   ]
  },
  {
   "cell_type": "code",
   "execution_count": null,
   "id": "0d61c046",
   "metadata": {},
   "outputs": [],
   "source": []
  }
 ],
 "metadata": {
  "kernelspec": {
   "display_name": "Python 3 (ipykernel)",
   "language": "python",
   "name": "python3"
  },
  "language_info": {
   "codemirror_mode": {
    "name": "ipython",
    "version": 3
   },
   "file_extension": ".py",
   "mimetype": "text/x-python",
   "name": "python",
   "nbconvert_exporter": "python",
   "pygments_lexer": "ipython3",
   "version": "3.11.4"
  }
 },
 "nbformat": 4,
 "nbformat_minor": 5
}
