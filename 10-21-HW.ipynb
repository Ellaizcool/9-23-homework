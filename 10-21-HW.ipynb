{
 "cells": [
  {
   "cell_type": "code",
   "execution_count": 26,
   "id": "f01954d8",
   "metadata": {},
   "outputs": [],
   "source": [
    "def paintingcost():\n",
    "    Width=input('Robot: What is the width?\\n')\n",
    "    Length=input('Robot: What is the length?\\n')\n",
    "    Money=input('Robot: How much money per square feet?\\n')\n",
    "    Width=float(Width)\n",
    "    Length=float(Length)\n",
    "    Money=float(Money)\n",
    "    Totalcost=(Width*Length*Money)\n",
    "    return(Totalcost)"
   ]
  },
  {
   "cell_type": "code",
   "execution_count": 27,
   "id": "89e7c911",
   "metadata": {},
   "outputs": [
    {
     "name": "stdout",
     "output_type": "stream",
     "text": [
      "Robot: What is the width?\n",
      "10\n",
      "Robot: What is the length?\n",
      "10\n",
      "Robot: How much money per square feet?\n",
      "2\n"
     ]
    },
    {
     "data": {
      "text/plain": [
       "200.0"
      ]
     },
     "execution_count": 27,
     "metadata": {},
     "output_type": "execute_result"
    }
   ],
   "source": [
    "paintingcost()"
   ]
  },
  {
   "cell_type": "code",
   "execution_count": null,
   "id": "bc068d1c",
   "metadata": {},
   "outputs": [],
   "source": []
  }
 ],
 "metadata": {
  "kernelspec": {
   "display_name": "Python 3 (ipykernel)",
   "language": "python",
   "name": "python3"
  },
  "language_info": {
   "codemirror_mode": {
    "name": "ipython",
    "version": 3
   },
   "file_extension": ".py",
   "mimetype": "text/x-python",
   "name": "python",
   "nbconvert_exporter": "python",
   "pygments_lexer": "ipython3",
   "version": "3.11.4"
  }
 },
 "nbformat": 4,
 "nbformat_minor": 5
}
