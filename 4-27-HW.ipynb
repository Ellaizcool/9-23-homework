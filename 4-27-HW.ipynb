{
 "cells": [
  {
   "cell_type": "code",
   "execution_count": 110,
   "id": "456c5a0a",
   "metadata": {},
   "outputs": [],
   "source": [
    "d={'a': 1, 'b': 6, 'c': 3, 'd': 4,'e':5, 'f':1, 'g':4, 'h':8, 'i':5, 'j':7, 'k':4, 'l':3, 'm':9,'n':2, 'o':5, 'p':4, 'q':3, 'r':6, 's':9,'t':1, 'u':5, 'v':7, 'w':7, 'x':1, 'y':4, 'z':6,}"
   ]
  },
  {
   "cell_type": "code",
   "execution_count": 122,
   "id": "81474aec",
   "metadata": {},
   "outputs": [
    {
     "name": "stdout",
     "output_type": "stream",
     "text": [
      "1\n",
      "6\n",
      "3\n",
      "4\n",
      "5\n",
      "1\n",
      "4\n",
      "8\n",
      "5\n",
      "7\n",
      "4\n",
      "3\n",
      "9\n",
      "2\n",
      "5\n",
      "4\n",
      "3\n",
      "6\n",
      "9\n",
      "1\n",
      "5\n",
      "7\n",
      "7\n",
      "1\n",
      "4\n",
      "6\n"
     ]
    }
   ],
   "source": [
    "for key in d:\n",
    "        ee=d.get(key)\n",
    "        print(ee)\n",
    "\n"
   ]
  },
  {
   "cell_type": "code",
   "execution_count": null,
   "id": "2b3770c2",
   "metadata": {},
   "outputs": [],
   "source": []
  }
 ],
 "metadata": {
  "kernelspec": {
   "display_name": "Python 3 (ipykernel)",
   "language": "python",
   "name": "python3"
  },
  "language_info": {
   "codemirror_mode": {
    "name": "ipython",
    "version": 3
   },
   "file_extension": ".py",
   "mimetype": "text/x-python",
   "name": "python",
   "nbconvert_exporter": "python",
   "pygments_lexer": "ipython3",
   "version": "3.11.4"
  }
 },
 "nbformat": 4,
 "nbformat_minor": 5
}
