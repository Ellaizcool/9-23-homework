{
 "cells": [
  {
   "cell_type": "code",
   "execution_count": 18,
   "id": "0aeef64c",
   "metadata": {},
   "outputs": [],
   "source": [
    " def unique_list(n_L):\n",
    "        u_L=[]\n",
    "        for i in range(len(n_L)):\n",
    "            if n_L[i] not in u_L:\n",
    "                u_L.append(n_L[i])\n",
    "        return u_L"
   ]
  },
  {
   "cell_type": "code",
   "execution_count": 19,
   "id": "2abd50a1",
   "metadata": {},
   "outputs": [
    {
     "data": {
      "text/plain": [
       "[3, 5, 2, 1]"
      ]
     },
     "execution_count": 19,
     "metadata": {},
     "output_type": "execute_result"
    }
   ],
   "source": [
    "unique_list([3,5,3,2,1,5])"
   ]
  },
  {
   "cell_type": "code",
   "execution_count": 50,
   "id": "3d96f0ef",
   "metadata": {},
   "outputs": [],
   "source": [
    "def wobblewobbleow(lst):\n",
    "    checked = []\n",
    "    for item in lst:\n",
    "        if item in checked:\n",
    "            return True\n",
    "        checked.append(item)\n",
    "    return False"
   ]
  },
  {
   "cell_type": "code",
   "execution_count": 51,
   "id": "a785a06a",
   "metadata": {
    "scrolled": true
   },
   "outputs": [
    {
     "data": {
      "text/plain": [
       "False"
      ]
     },
     "execution_count": 51,
     "metadata": {},
     "output_type": "execute_result"
    }
   ],
   "source": [
    "wobblewobbleow([1,2,3,4,5,6,7,8,9])"
   ]
  },
  {
   "cell_type": "code",
   "execution_count": null,
   "id": "8a36a138",
   "metadata": {},
   "outputs": [],
   "source": []
  }
 ],
 "metadata": {
  "kernelspec": {
   "display_name": "Python 3 (ipykernel)",
   "language": "python",
   "name": "python3"
  },
  "language_info": {
   "codemirror_mode": {
    "name": "ipython",
    "version": 3
   },
   "file_extension": ".py",
   "mimetype": "text/x-python",
   "name": "python",
   "nbconvert_exporter": "python",
   "pygments_lexer": "ipython3",
   "version": "3.11.4"
  }
 },
 "nbformat": 4,
 "nbformat_minor": 5
}
