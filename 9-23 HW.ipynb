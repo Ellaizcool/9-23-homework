{
 "cells": [
  {
   "cell_type": "code",
   "execution_count": 8,
   "id": "75e95281",
   "metadata": {
    "scrolled": true
   },
   "outputs": [
    {
     "name": "stdout",
     "output_type": "stream",
     "text": [
      "what is your name?\n",
      "Bob Ella\n",
      "So, your name is Bob Ella\n"
     ]
    }
   ],
   "source": [
    "name=input('what is your name?\\n')\n",
    "print('So, your name is', name)"
   ]
  },
  {
   "cell_type": "code",
   "execution_count": 14,
   "id": "921bf6db",
   "metadata": {},
   "outputs": [
    {
     "name": "stdout",
     "output_type": "stream",
     "text": [
      "what is your favorite sport?\n",
      "ping pong\n",
      "my favorite is ping pong too!\n"
     ]
    }
   ],
   "source": [
    "sport=input('what is your favorite sport?\\n')\n",
    "print('my favorite is',sport,'too!')"
   ]
  },
  {
   "cell_type": "code",
   "execution_count": 28,
   "id": "82ca74a7",
   "metadata": {},
   "outputs": [
    {
     "name": "stdout",
     "output_type": "stream",
     "text": [
      "Robot: What is your favorite hobby?\n",
      "crochet\n",
      "Robot: I like crochet too!\n",
      "Robot: What can you make from it?\n",
      "a house\n",
      "Robot: Cool! a house is interesting!\n"
     ]
    }
   ],
   "source": [
    "hobby=input('Robot: What is your favorite hobby?\\n')\n",
    "print('Robot: I like',hobby,'too!')\n",
    "answer=input('Robot: What can you make from it?\\n')\n",
    "print('Robot: Cool!',answer,'is interesting!')\n"
   ]
  }
 ],
 "metadata": {
  "kernelspec": {
   "display_name": "Python 3 (ipykernel)",
   "language": "python",
   "name": "python3"
  },
  "language_info": {
   "codemirror_mode": {
    "name": "ipython",
    "version": 3
   },
   "file_extension": ".py",
   "mimetype": "text/x-python",
   "name": "python",
   "nbconvert_exporter": "python",
   "pygments_lexer": "ipython3",
   "version": "3.11.4"
  }
 },
 "nbformat": 4,
 "nbformat_minor": 5
}
