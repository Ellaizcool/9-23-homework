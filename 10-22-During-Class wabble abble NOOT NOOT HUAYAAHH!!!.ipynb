{
 "cells": [
  {
   "cell_type": "code",
   "execution_count": 1,
   "id": "56d0fd95",
   "metadata": {},
   "outputs": [],
   "source": [
    "#return=output in a function\n",
    "#print=print on screen anywhere"
   ]
  },
  {
   "cell_type": "code",
   "execution_count": 7,
   "id": "0da5e03f",
   "metadata": {},
   "outputs": [
    {
     "ename": "NameError",
     "evalue": "name 'area' is not defined",
     "output_type": "error",
     "traceback": [
      "\u001b[0;31m---------------------------------------------------------------------------\u001b[0m",
      "\u001b[0;31mNameError\u001b[0m                                 Traceback (most recent call last)",
      "Cell \u001b[0;32mIn[7], line 5\u001b[0m\n\u001b[1;32m      3\u001b[0m     \u001b[38;5;66;03m#return Area\u001b[39;00m\n\u001b[1;32m      4\u001b[0m     \u001b[38;5;28mprint\u001b[39m (area)\n\u001b[0;32m----> 5\u001b[0m area_rec(\u001b[38;5;241m2\u001b[39m,\u001b[38;5;241m3\u001b[39m)\n",
      "Cell \u001b[0;32mIn[7], line 4\u001b[0m, in \u001b[0;36marea_rec\u001b[0;34m(X, Y)\u001b[0m\n\u001b[1;32m      2\u001b[0m Area\u001b[38;5;241m=\u001b[39mX\u001b[38;5;241m*\u001b[39mY\n\u001b[1;32m      3\u001b[0m \u001b[38;5;66;03m#return Area\u001b[39;00m\n\u001b[0;32m----> 4\u001b[0m \u001b[38;5;28mprint\u001b[39m (area)\n",
      "\u001b[0;31mNameError\u001b[0m: name 'area' is not defined"
     ]
    }
   ],
   "source": [
    "def area_rec(X,Y):\n",
    "    Area=X*Y\n",
    "    return Area\n",
    "area_rec(2,3)"
   ]
  },
  {
   "cell_type": "code",
   "execution_count": 15,
   "id": "23bb985a",
   "metadata": {},
   "outputs": [],
   "source": [
    "def Yard_Converter(Yard):\n",
    "    Meter=Yard*0.914\n",
    "    return Meter"
   ]
  },
  {
   "cell_type": "code",
   "execution_count": 11,
   "id": "762c9ad2",
   "metadata": {},
   "outputs": [
    {
     "ename": "NameError",
     "evalue": "name 'area' is not defined",
     "output_type": "error",
     "traceback": [
      "\u001b[0;31m---------------------------------------------------------------------------\u001b[0m",
      "\u001b[0;31mNameError\u001b[0m                                 Traceback (most recent call last)",
      "Cell \u001b[0;32mIn[11], line 3\u001b[0m\n\u001b[1;32m      1\u001b[0m \u001b[38;5;28;01mdef\u001b[39;00m \u001b[38;5;21mpainting_cost\u001b[39m(area,cost_per_sqf):\n\u001b[1;32m      2\u001b[0m     \u001b[38;5;28;01mreturn\u001b[39;00m area\u001b[38;5;241m*\u001b[39mcost_per_sqf\n\u001b[0;32m----> 3\u001b[0m painting_cost(area_rec(\u001b[38;5;241m2\u001b[39m,\u001b[38;5;241m3\u001b[39m),\u001b[38;5;241m5\u001b[39m)\n",
      "Cell \u001b[0;32mIn[7], line 4\u001b[0m, in \u001b[0;36marea_rec\u001b[0;34m(X, Y)\u001b[0m\n\u001b[1;32m      2\u001b[0m Area\u001b[38;5;241m=\u001b[39mX\u001b[38;5;241m*\u001b[39mY\n\u001b[1;32m      3\u001b[0m \u001b[38;5;66;03m#return Area\u001b[39;00m\n\u001b[0;32m----> 4\u001b[0m \u001b[38;5;28mprint\u001b[39m (area)\n",
      "\u001b[0;31mNameError\u001b[0m: name 'area' is not defined"
     ]
    }
   ],
   "source": [
    "def painting_cost(area,cost_per_sqf):\n",
    "    return area*cost_per_sqf\n",
    "painting_cost(area_rec(2,3),5)"
   ]
  },
  {
   "cell_type": "code",
   "execution_count": 16,
   "id": "2c451ab6",
   "metadata": {},
   "outputs": [
    {
     "ename": "NameError",
     "evalue": "name 'area' is not defined",
     "output_type": "error",
     "traceback": [
      "\u001b[0;31m---------------------------------------------------------------------------\u001b[0m",
      "\u001b[0;31mNameError\u001b[0m                                 Traceback (most recent call last)",
      "Cell \u001b[0;32mIn[16], line 3\u001b[0m\n\u001b[1;32m      1\u001b[0m \u001b[38;5;28;01mdef\u001b[39;00m \u001b[38;5;21mpainting_cost\u001b[39m(area,cost_per_sqf):\n\u001b[1;32m      2\u001b[0m     \u001b[38;5;28;01mreturn\u001b[39;00m area\u001b[38;5;241m*\u001b[39mcost_per_sqf\n\u001b[0;32m----> 3\u001b[0m painting_cost(area_rec(\u001b[38;5;241m2\u001b[39m,\u001b[38;5;241m3\u001b[39m),\u001b[38;5;241m5\u001b[39m)\n",
      "Cell \u001b[0;32mIn[7], line 4\u001b[0m, in \u001b[0;36marea_rec\u001b[0;34m(X, Y)\u001b[0m\n\u001b[1;32m      2\u001b[0m Area\u001b[38;5;241m=\u001b[39mX\u001b[38;5;241m*\u001b[39mY\n\u001b[1;32m      3\u001b[0m \u001b[38;5;66;03m#return Area\u001b[39;00m\n\u001b[0;32m----> 4\u001b[0m \u001b[38;5;28mprint\u001b[39m (area)\n",
      "\u001b[0;31mNameError\u001b[0m: name 'area' is not defined"
     ]
    }
   ],
   "source": [
    "def painting_cost(area,cost_per_sqf):\n",
    "    return area*cost_per_sqf\n",
    "painting_cost(area_rec(2,3),5)"
   ]
  },
  {
   "cell_type": "code",
   "execution_count": 17,
   "id": "8e2fa4b2",
   "metadata": {},
   "outputs": [
    {
     "data": {
      "text/plain": [
       "80.0"
      ]
     },
     "execution_count": 17,
     "metadata": {},
     "output_type": "execute_result"
    }
   ],
   "source": [
    "def cost_after_discount(painting_cost,discount): #20% percent off.-->\n",
    "    return painting_cost*(1-discount/100)\n",
    "cost_after_discount(100,20)"
   ]
  },
  {
   "cell_type": "code",
   "execution_count": 36,
   "id": "476291d8",
   "metadata": {},
   "outputs": [
    {
     "data": {
      "text/plain": [
       "4.57"
      ]
     },
     "execution_count": 36,
     "metadata": {},
     "output_type": "execute_result"
    }
   ],
   "source": [
    "Yard_Converter(5)"
   ]
  },
  {
   "cell_type": "code",
   "execution_count": 37,
   "id": "314ee8ac",
   "metadata": {},
   "outputs": [
    {
     "data": {
      "text/plain": [
       "86.0"
      ]
     },
     "execution_count": 37,
     "metadata": {},
     "output_type": "execute_result"
    }
   ],
   "source": [
    "def C_to_F(C):\n",
    "    F=C*(9/5)+32\n",
    "    return F\n",
    "C_to_F(30)"
   ]
  },
  {
   "cell_type": "code",
   "execution_count": null,
   "id": "d34162a1",
   "metadata": {},
   "outputs": [],
   "source": []
  }
 ],
 "metadata": {
  "kernelspec": {
   "display_name": "Python 3 (ipykernel)",
   "language": "python",
   "name": "python3"
  },
  "language_info": {
   "codemirror_mode": {
    "name": "ipython",
    "version": 3
   },
   "file_extension": ".py",
   "mimetype": "text/x-python",
   "name": "python",
   "nbconvert_exporter": "python",
   "pygments_lexer": "ipython3",
   "version": "3.11.4"
  }
 },
 "nbformat": 4,
 "nbformat_minor": 5
}
