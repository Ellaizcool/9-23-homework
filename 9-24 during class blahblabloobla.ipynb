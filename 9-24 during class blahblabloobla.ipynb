{
 "cells": [
  {
   "cell_type": "code",
   "execution_count": 3,
   "id": "c003c16d",
   "metadata": {},
   "outputs": [
    {
     "name": "stdout",
     "output_type": "stream",
     "text": [
      "Robot: What did you do?\n",
      "bob\n",
      "Robot: Why did you bob ?\n"
     ]
    }
   ],
   "source": [
    "E=input('Robot: What did you do?\\n')\n",
    "print('Robot: Why did you' ,E,'?')"
   ]
  },
  {
   "cell_type": "code",
   "execution_count": 7,
   "id": "812c8126",
   "metadata": {},
   "outputs": [
    {
     "name": "stdout",
     "output_type": "stream",
     "text": [
      "239.5\n"
     ]
    }
   ],
   "source": [
    "dinnercost =479\n",
    "tippercentage=0.5\n",
    "tip=dinnercost*tippercentage\n",
    "print(Tip)"
   ]
  },
  {
   "cell_type": "code",
   "execution_count": null,
   "id": "b8835ddc",
   "metadata": {},
   "outputs": [],
   "source": [
    "sport=input('Robot: What is your favorite sport?\\n')\n",
    "print('Robot: Why do you like', sport,'?')\n",
    "answer=input('Do you like it?\\n')\n",
    "print('Cool!',answer,'is nice!')"
   ]
  },
  {
   "cell_type": "code",
   "execution_count": null,
   "id": "f95d7a75",
   "metadata": {},
   "outputs": [],
   "source": [
    "homework: complete dinnercost thingy"
   ]
  },
  {
   "cell_type": "code",
   "execution_count": 13,
   "id": "6f7a308e",
   "metadata": {},
   "outputs": [
    {
     "data": {
      "text/plain": [
       "0"
      ]
     },
     "execution_count": 13,
     "metadata": {},
     "output_type": "execute_result"
    }
   ],
   "source": []
  },
  {
   "cell_type": "code",
   "execution_count": null,
   "id": "bf5287c5",
   "metadata": {},
   "outputs": [],
   "source": []
  }
 ],
 "metadata": {
  "kernelspec": {
   "display_name": "Python 3 (ipykernel)",
   "language": "python",
   "name": "python3"
  },
  "language_info": {
   "codemirror_mode": {
    "name": "ipython",
    "version": 3
   },
   "file_extension": ".py",
   "mimetype": "text/x-python",
   "name": "python",
   "nbconvert_exporter": "python",
   "pygments_lexer": "ipython3",
   "version": "3.11.4"
  }
 },
 "nbformat": 4,
 "nbformat_minor": 5
}
