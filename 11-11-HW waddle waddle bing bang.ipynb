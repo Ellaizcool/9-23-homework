{
 "cells": [
  {
   "cell_type": "code",
   "execution_count": 1,
   "id": "a1c5d03b",
   "metadata": {},
   "outputs": [],
   "source": [
    "import turtle\n",
    "t = turtle.Turtle()\n",
    "t.speed(10) \n",
    "t.shape('turtle')\n",
    "t.color('pink')\n",
    "for i in range(12):\n",
    "\tt.circle(30)\n",
    "\tt.right(30)\n",
    "\tt.forward(10)\n",
    "t.color('hot pink')\n",
    "for i in range(12):\n",
    "\tt.circle(25)\n",
    "\tt.right(30)\n",
    "\tt.forward(10)\n",
    "t.penup()\n",
    "t.right(193)\n",
    "t.left(100)\n",
    "t.forward(40)\n",
    "t.pendown()\n",
    "t.color('green')\n",
    "t.left(5)\n",
    "t.forward(150)"
   ]
  },
  {
   "cell_type": "code",
   "execution_count": null,
   "id": "575ea541",
   "metadata": {},
   "outputs": [],
   "source": []
  }
 ],
 "metadata": {
  "kernelspec": {
   "display_name": "Python 3 (ipykernel)",
   "language": "python",
   "name": "python3"
  },
  "language_info": {
   "codemirror_mode": {
    "name": "ipython",
    "version": 3
   },
   "file_extension": ".py",
   "mimetype": "text/x-python",
   "name": "python",
   "nbconvert_exporter": "python",
   "pygments_lexer": "ipython3",
   "version": "3.11.4"
  }
 },
 "nbformat": 4,
 "nbformat_minor": 5
}
