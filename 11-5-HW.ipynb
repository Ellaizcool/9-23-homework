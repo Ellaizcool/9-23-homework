{
 "cells": [
  {
   "cell_type": "code",
   "execution_count": 1,
   "id": "f4c470cd",
   "metadata": {},
   "outputs": [],
   "source": [
    "import turtle\n",
    "t=turtle.Turtle()\n",
    "t.shape('turtle')\n",
    "t.color('green')\n",
    "t.speed(5)\n",
    "for i in range(3):\n",
    "\tt.forward(95)\n",
    "\tt.left(120)\n",
    "t.forward(25)\n",
    "t.right(120)\n",
    "t.forward(75)\n",
    "t.left(120)\n",
    "t.forward(125)\n",
    "t.left(120)\n",
    "t.forward(75)\n",
    "t.left(180)\n",
    "t.forward(75)\n",
    "t.right(120)\n",
    "t.forward(25)\n",
    "t.left(120)\n",
    "t.forward(90)\n",
    "t.right(120)\n",
    "t.forward(165)\n",
    "t.right(120)\n",
    "t.forward(90)\n",
    "t.left(180)\n",
    "t.forward(90)\n",
    "t.left(120)\n",
    "t.forward(47.5)\n",
    "t.color('brown')\n",
    "t.right(90)\n",
    "t.forward(100)\n",
    "t.left(90)\n",
    "t.forward(70)\n",
    "t.left(90)\n",
    "t.forward(100)"
   ]
  },
  {
   "cell_type": "code",
   "execution_count": null,
   "id": "5bd40ccf",
   "metadata": {},
   "outputs": [],
   "source": []
  }
 ],
 "metadata": {
  "kernelspec": {
   "display_name": "Python 3 (ipykernel)",
   "language": "python",
   "name": "python3"
  },
  "language_info": {
   "codemirror_mode": {
    "name": "ipython",
    "version": 3
   },
   "file_extension": ".py",
   "mimetype": "text/x-python",
   "name": "python",
   "nbconvert_exporter": "python",
   "pygments_lexer": "ipython3",
   "version": "3.11.4"
  }
 },
 "nbformat": 4,
 "nbformat_minor": 5
}
